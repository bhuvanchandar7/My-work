{
  "nbformat": 4,
  "nbformat_minor": 0,
  "metadata": {
    "colab": {
      "provenance": [],
      "toc_visible": true
    },
    "kernelspec": {
      "name": "python3",
      "display_name": "Python 3"
    },
    "language_info": {
      "name": "python"
    }
  },
  "cells": [
    {
      "cell_type": "code",
      "source": [
        "from datetime import datetime\n",
        "import numpy as np\n",
        "import matplotlib.pyplot as plt"
      ],
      "metadata": {
        "id": "Zz5kuqGxZwua"
      },
      "execution_count": null,
      "outputs": []
    },
    {
      "cell_type": "code",
      "execution_count": null,
      "metadata": {
        "id": "opG9KrUDZfTQ"
      },
      "outputs": [],
      "source": [
        "# Function to read product details from a file\n",
        "def read_products(file_path):\n",
        "    with open(file_path, 'r') as file:\n",
        "        lines = file.readlines()[1:]  # Skipping the header line\n",
        "        products = {}\n",
        "        for line in lines:\n",
        "            details = {}\n",
        "            product_id = line.split(',')[0]\n",
        "            name = line.split(',')[1]\n",
        "            price = float(line.split(',')[2])\n",
        "            details['name'] = name\n",
        "            details['price'] = price\n",
        "            products[product_id] = details\n",
        "    return products\n",
        "\n",
        "# Function to read sales transactions from a file\n",
        "def read_sales(file_path):\n",
        "    with open(file_path, 'r') as file:\n",
        "        lines = file.readlines()[1:]  # Skipping the header line\n",
        "        sales = []\n",
        "        for line in lines:\n",
        "            sale = {}\n",
        "            sale['transaction_id'] = line.split(',')[0]\n",
        "            date = line.split(',')[1]\n",
        "            date = date.split('-')\n",
        "            date = '/'.join(date)\n",
        "            updated_date = datetime.strptime(date, '%Y/%m/%d')\n",
        "            sale['date'] = updated_date\n",
        "            sale['product_id'] = line.split(',')[2]\n",
        "            sale['quantity'] = int(line.split(',')[3])\n",
        "            sale['discount'] = float(line.split(',')[4])\n",
        "            sales.append(sale)\n",
        "        return sales\n",
        "\n",
        "# Function to read return transactions from a file\n",
        "def read_returns(file_path):\n",
        "    with open(file_path, 'r') as file:\n",
        "        lines = file.readlines()[1:]  # Skipping the header line\n",
        "        returns = []\n",
        "        for line in lines:\n",
        "            ret = {}\n",
        "            ret['transaction_id'] = line.split(',')[0]\n",
        "            date = line.split(',')[1].strip()\n",
        "            date = date.split('-')\n",
        "            date = '/'.join(date)\n",
        "            updated_date = datetime.strptime(date, '%Y/%m/%d')\n",
        "            ret['date'] = updated_date\n",
        "            returns.append(ret)\n",
        "        return returns\n"
      ]
    },
    {
      "cell_type": "markdown",
      "source": [
        "QUESTION 1"
      ],
      "metadata": {
        "id": "hPyxnFtebnnw"
      }
    },
    {
      "cell_type": "code",
      "source": [
        "if __name__ == \"__main__\":\n",
        "    # Reading product, sales, and return transactions from respective files\n",
        "    products = read_products(\"transactions_Products_January.csv\")\n",
        "    sales = read_sales(\"transactions_Sales_January.csv\")\n",
        "    returns = read_returns(\"transactions_Returns_January.csv\")\n",
        "\n",
        "    # Separating sales transactions before and after January 8th\n",
        "    before_8th = []\n",
        "    after_8th = []\n",
        "    for sale in sales:\n",
        "        if sale[\"date\"] < datetime(2024, 1, 8):\n",
        "            before_8th.append(sale)\n",
        "        else:\n",
        "            after_8th.append(sale)\n",
        "\n",
        "    # Calculating number of transactions with no discount before and after January 8th\n",
        "    no_discount_before_8th = 0\n",
        "    for sale in before_8th:\n",
        "        if sale[\"discount\"] == 0:\n",
        "            no_discount_before_8th +=1\n",
        "    no_discount_after_8th = 0\n",
        "    for sale in after_8th:\n",
        "        if sale[\"discount\"] == 0:\n",
        "            no_discount_after_8th +=1\n",
        "\n",
        "    # Calculating total number of sales before and after January 8th\n",
        "    total_sales_before=len(before_8th)\n",
        "    total_sales_after=len(after_8th)\n",
        "\n",
        "    # Calculating average percentage of transactions without discount before and after January 8th\n",
        "    average_no_discount_before_8th = (no_discount_before_8th / total_sales_before) * 100\n",
        "    average_no_discount_after_8th = (no_discount_after_8th / total_sales_after) * 100\n",
        "\n",
        "    # Initializing dictionaries to store discounts and quantities before and after January 8th for each product\n",
        "    discounts_before_8th = {pid: 0 for pid in products.keys()}\n",
        "    discounts_after_8th = {pid: 0 for pid in products.keys()}\n",
        "    quantity_before_8th = {pid: 0 for pid in products.keys()}\n",
        "    quantity_after_8th = {pid: 0 for pid in products.keys()}\n",
        "\n",
        "    # Calculating discounts and quantities before and after January 8th for each product\n",
        "    for sale in sales:\n",
        "        pid = sale[\"product_id\"]\n",
        "        if sale[\"date\"] < datetime(2024, 1, 8):\n",
        "            discounts_before_8th[pid]+=sale[\"discount\"]*sale[\"quantity\"]\n",
        "            quantity_before_8th[pid]+=sale[\"quantity\"]\n",
        "        else:\n",
        "            discounts_after_8th[pid]+=sale[\"discount\"]*sale[\"quantity\"]\n",
        "            quantity_after_8th[pid]+=sale[\"quantity\"]\n",
        "\n",
        "    # Printing results\n",
        "    print(\" \" * 38 + \"<08-01 - >=08-01\")\n",
        "    print(\"Average transaction without discount: {:05.2f}% - {:05.2f}%\".format(average_no_discount_before_8th, average_no_discount_after_8th))\n",
        "    print(\"Average discount per product:\")\n",
        "    print(\"{:<3} {:>20} {:>5} - {:>5}\".format(\"PID\", \"Product Name\", \"<08-01\", \">=08-01\"))\n",
        "    for product_id in products.keys():\n",
        "        product_name = products[product_id]['name']\n",
        "        avg_discount_before = (discounts_before_8th[product_id] /quantity_before_8th[product_id]) * 100 if quantity_before_8th[product_id] != 0 else 0\n",
        "        avg_discount_after = (discounts_after_8th[product_id] / quantity_after_8th[product_id]) * 100 if quantity_after_8th[product_id] != 0 else 0\n",
        "        print(\"{:>3} {:>20} {:05.2f}% - {:05.2f}%\".format(product_id, product_name, avg_discount_before, avg_discount_after))"
      ],
      "metadata": {
        "id": "rzMCOS3Mao4p",
        "colab": {
          "base_uri": "https://localhost:8080/"
        },
        "outputId": "d2ef50ce-1b36-410c-fe2b-704a7b9c464f"
      },
      "execution_count": null,
      "outputs": [
        {
          "output_type": "stream",
          "name": "stdout",
          "text": [
            "                                      <08-01 - >=08-01\n",
            "Average transaction without discount: 03.38% - 03.90%\n",
            "Average discount per product:\n",
            "PID         Product Name <08-01 - >=08-01\n",
            " P1        2-in-1 Laptop 09.88% - 06.90%\n",
            " P2          Game Laptop 07.45% - 07.59%\n",
            " P3         Titan Laptop 09.29% - 06.91%\n",
            " P4   Folding Smartphone 09.06% - 07.25%\n",
            " P5     Smart Smartphone 09.10% - 07.50%\n",
            " P6         T headphones 10.16% - 08.31%\n",
            " P7  Cordless Headphones 07.29% - 07.22%\n",
            " P8        \"13\"\" Tablet\" 10.09% - 06.68%\n",
            " P9         e-ink Tablet 10.09% - 06.69%\n",
            "P10        \"10\"\" Tablet\" 10.14% - 07.75%\n",
            "P11       Colour Printer 10.28% - 06.91%\n",
            "P12        Laser Printer 09.59% - 07.47%\n",
            "P13             Mega MP3 09.58% - 07.04%\n",
            "P14          Flat screen 08.15% - 07.06%\n",
            "P15       Gaming Monitor 10.03% - 07.47%\n",
            "P16        Camera Webcam 00.00% - 07.86%\n",
            "P17        Camera TocTic 00.00% - 06.87%\n",
            "P18 Multidirectional mic 00.00% - 07.81%\n",
            "P19            Drone Cam 00.00% - 08.05%\n",
            "P20      Health Daylight 00.00% - 07.94%\n"
          ]
        }
      ]
    },
    {
      "cell_type": "markdown",
      "source": [
        "QUESTION 2\n"
      ],
      "metadata": {
        "id": "DK0pBFgwsRyB"
      }
    },
    {
      "cell_type": "code",
      "source": [
        "def increment_date(date):\n",
        "    \"\"\"\n",
        "    Function to increment the given date by one day.\n",
        "    It takes in a date as an input and returns the incremented date by one day.\n",
        "    \"\"\"\n",
        "    year, month, day = date.year, date.month, date.day\n",
        "    next_day = day + 1\n",
        "    if next_day > 31:\n",
        "        next_day = 1\n",
        "        month += 1\n",
        "        if month > 12:\n",
        "            month = 1\n",
        "            year += 1\n",
        "    return datetime(year, month, next_day)\n",
        "\n",
        "if __name__ == \"__main__\":\n",
        "    # Reading product, sales, and return transactions from respective files\n",
        "    products = read_products(\"transactions_Products_January.csv\")\n",
        "    sales = read_sales(\"transactions_Sales_January.csv\")\n",
        "    returns = read_returns(\"transactions_Returns_January.csv\")\n",
        "\n",
        "    # Initializing dictionaries to store transactions and turnover per weekday\n",
        "    transactions_per_weekday = {'Monday': 0, 'Tuesday': 0, 'Wednesday': 0, 'Thursday': 0, 'Friday': 0, 'Saturday': 0, 'Sunday': 0}\n",
        "    turnover_per_weekday = {'Monday': 0, 'Tuesday': 0, 'Wednesday': 0, 'Thursday': 0, 'Friday': 0, 'Saturday': 0, 'Sunday': 0}\n",
        "\n",
        "    # Calculating transactions and turnover per weekday\n",
        "    for sale in sales:\n",
        "        weekday = sale['date'].strftime('%A')\n",
        "        transactions_per_weekday[weekday] += 1\n",
        "        turnover_per_weekday[weekday] += sale['quantity'] * products[sale['product_id']]['price'] * (1 - sale['discount'])\n",
        "\n",
        "    # Determining the start and end date of sales transactions\n",
        "    start_date = sales[0]['date']\n",
        "    end_date = sales[-1]['date']\n",
        "\n",
        "    # Initializing dictionary to count the number of occurrences of each weekday\n",
        "    num_of_days = {'Monday': 0, 'Tuesday': 0, 'Wednesday': 0, 'Thursday': 0, 'Friday': 0, 'Saturday': 0, 'Sunday': 0}\n",
        "    current_date = start_date\n",
        "\n",
        "    # Counting the number of occurrences of each weekday within the date range\n",
        "    while current_date <= end_date:\n",
        "        weekday = current_date.strftime('%A')\n",
        "        num_of_days[weekday] += 1\n",
        "        current_date = increment_date(current_date)\n",
        "\n",
        "    # Printing the table header\n",
        "    print(\"+-----------+-----+-------------+\")\n",
        "    print(\"| Day       |NB Tr|    Turnover |\")\n",
        "    print(\"+-----------+-----+-------------+\")\n",
        "\n",
        "    # Printing transaction and turnover statistics per weekday\n",
        "    for day in num_of_days.keys():\n",
        "        print(f\"| {day:<9} | {round(transactions_per_weekday[day]/num_of_days[day]):>3} | ${turnover_per_weekday[day]/num_of_days[day]:>10,.2f} |\")\n",
        "    print(\"+-----------+-----+-------------+\")\n",
        "\n",
        "    # Plotting bar charts for transactions and turnover per weekday\n",
        "    weekdays = num_of_days.keys()\n",
        "    transaction = list(transactions_per_weekday.values())\n",
        "    sales = list(turnover_per_weekday.values())\n",
        "    bar_colors = ['tab:blue' if day not in ['Saturday', 'Sunday'] else 'tab:red' for day in num_of_days.keys()]\n",
        "    myBar = plt.bar(weekdays,height = transaction,color = bar_colors)\n",
        "    plt.xlabel(\"Weekdays\")\n",
        "    plt.ylabel(\"Transactions\")\n",
        "    plt.bar_label(myBar)\n",
        "    plt.show()\n",
        "    myBar2 = plt.bar(weekdays,height = sales,color = bar_colors)\n",
        "    plt.xlabel(\"Weekdays\")\n",
        "    plt.ylabel(\"Dollar amount\")\n",
        "    plt.bar_label(myBar2,fmt='{:,.0f}')\n",
        "    plt.show()\n"
      ],
      "metadata": {
        "colab": {
          "base_uri": "https://localhost:8080/",
          "height": 1000
        },
        "id": "9mULFooYxpq0",
        "outputId": "7d97e29b-fe3c-4458-e901-ff2f34df2d4c"
      },
      "execution_count": null,
      "outputs": [
        {
          "output_type": "stream",
          "name": "stdout",
          "text": [
            "+-----------+-----+-------------+\n",
            "| Day       |NB Tr|    Turnover |\n",
            "+-----------+-----+-------------+\n",
            "| Monday    |  64 | $ 47,601.66 |\n",
            "| Tuesday   |  71 | $ 55,074.94 |\n",
            "| Wednesday |  65 | $ 47,543.33 |\n",
            "| Thursday  |  74 | $ 50,420.02 |\n",
            "| Friday    |  74 | $ 58,183.97 |\n",
            "| Saturday  |  75 | $ 52,811.26 |\n",
            "| Sunday    |  73 | $ 62,234.42 |\n",
            "+-----------+-----+-------------+\n"
          ]
        },
        {
          "output_type": "display_data",
          "data": {
            "text/plain": [
              "<Figure size 640x480 with 1 Axes>"
            ],
            "image/png": "[encoded data removed]"
          },
          "metadata": {}
        },
        {
          "output_type": "display_data",
          "data": {
            "text/plain": [
              "<Figure size 640x480 with 1 Axes>"
            ],
            "image/png": "[encoded data removed]"
          },
          "metadata": {}
        }
      ]
    },
    {
      "cell_type": "markdown",
      "source": [
        "QUESTION 3"
      ],
      "metadata": {
        "id": "gYx1vAbk6SDV"
      }
    },
    {
      "cell_type": "code",
      "source": [
        "if __name__ == \"__main__\":\n",
        "    # Reading product, sales, and return transactions from respective files\n",
        "    products = read_products(\"transactions_Products_January.csv\")\n",
        "    sales = read_sales(\"transactions_Sales_January.csv\")\n",
        "    returns = read_returns(\"transactions_Returns_January.csv\")\n",
        "\n",
        "    # Counting the number of returns per day\n",
        "    return_count_by_day = {}\n",
        "    for item in returns:\n",
        "        date = item[\"date\"]\n",
        "        if date in return_count_by_day:\n",
        "            return_count_by_day[date] += 1\n",
        "        else:\n",
        "            return_count_by_day[date] = 1\n",
        "\n",
        "    # Finding the day with the maximum number of returns\n",
        "    max_count_day = None\n",
        "    max_count = 0\n",
        "    for date, count in return_count_by_day.items():\n",
        "        if count > max_count:\n",
        "            max_count = count\n",
        "            max_count_day = date\n",
        "\n",
        "    # Extracting return information for the day with the maximum returns\n",
        "    data=[]\n",
        "    for item in returns:\n",
        "      date=item['date']\n",
        "      if date==max_count_day:\n",
        "        transaction_id=item['transaction_id']\n",
        "        for sale in sales:\n",
        "          return_info={}\n",
        "          if transaction_id==sale['transaction_id']:\n",
        "            return_info['product_id']=sale['product_id']\n",
        "            return_info['quantity']=sale['quantity']\n",
        "            price=products[sale['product_id']]['price']\n",
        "            return_info['RS cost']=sale['quantity']*price*0.1\n",
        "            return_info['name']=products[sale['product_id']]['name']\n",
        "            data.append(return_info)\n",
        "\n",
        "    # Extracting date information\n",
        "    day_of_week = max_count_day.strftime(\"%A\")\n",
        "    month = max_count_day.strftime(\"%B\")\n",
        "    day_of_month = max_count_day.day\n",
        "    year = max_count_day.year\n",
        "    RS=0\n",
        "\n",
        "    # Calculating total RS cost for returns on the day with maximum returns\n",
        "    for item in data:\n",
        "      RS+=item['RS cost']\n",
        "\n",
        "    # Printing the results\n",
        "    print(f\"{day_of_week}, {month} {day_of_month}, {year} Total Return Shelving(RS) Cost=$ {RS:,.2f}\")\n",
        "    print(\"Products Returned that day:\")\n",
        "    print(\"{:3} {:20} {:3} {:10}\".format(\"PID\", \"Product Name\", \"NoI\", \"RS Cost\"))\n",
        "    for item in data:\n",
        "        print(\"{:3} {:20} {:3} ${:10,.2f}\".format(item['product_id'], item['name'], item['quantity'], item['RS cost']))"
      ],
      "metadata": {
        "colab": {
          "base_uri": "https://localhost:8080/"
        },
        "id": "Z1TxALeZ6QUY",
        "outputId": "e725e98b-c2ea-476d-fd56-f2d68060377a"
      },
      "execution_count": null,
      "outputs": [
        {
          "output_type": "stream",
          "name": "stdout",
          "text": [
            "Monday, January 29, 2024 Total Return Shelving(RS) Cost=$ 1,380.00\n",
            "Products Returned that day:\n",
            "PID Product Name         NoI RS Cost   \n",
            "P18 Multidirectional mic   1 $     20.00\n",
            "P17 Camera TocTic          6 $     90.00\n",
            "P2  Game Laptop            1 $    200.00\n",
            "P1  2-in-1 Laptop          3 $    450.00\n",
            "P2  Game Laptop            1 $    200.00\n",
            "P3  Titan Laptop           2 $    420.00\n"
          ]
        }
      ]
    },
    {
      "cell_type": "markdown",
      "source": [
        "QUESTION 4"
      ],
      "metadata": {
        "id": "OBDlLF_AHG5L"
      }
    },
    {
      "cell_type": "code",
      "source": [
        "def transactions_made(products, sales, returns):\n",
        "    \"\"\"\n",
        "    Function to calculate units sold, revenue, and discounts for each product.\n",
        "    Arguments:\n",
        "        products (dict): Dictionary containing product details.\n",
        "        sales (list): List of sales transactions.\n",
        "        returns (list): List of return transactions.\n",
        "    Returns:\n",
        "        tuple: A tuple containing dictionaries of units sold, revenue, and discounts for each product.\n",
        "    \"\"\"\n",
        "    product_units_sold = {}\n",
        "    product_revenue = {}\n",
        "    product_discounts = {}\n",
        "\n",
        "    # Initializing dictionaries for units sold, revenue, and discounts for each product\n",
        "    for product_id in products.keys():\n",
        "        product_units_sold[product_id] = 0\n",
        "        product_revenue[product_id] = 0\n",
        "        product_discounts[product_id] = 0\n",
        "\n",
        "    # Calculating units sold, revenue, and discounts for each product\n",
        "    for sale in sales:\n",
        "        if sale['transaction_id'] not in [return_entry['transaction_id'] for return_entry in returns]:\n",
        "            product_id = sale['product_id']\n",
        "            quantity = sale['quantity']\n",
        "            discount = sale['discount']\n",
        "            product_units_sold[product_id] += quantity\n",
        "            product_revenue[product_id] += quantity * products[product_id]['price']\n",
        "            product_discounts[product_id] += quantity * products[product_id]['price'] * discount\n",
        "\n",
        "    return product_units_sold, product_revenue, product_discounts\n",
        "\n",
        "if __name__ == \"__main__\":\n",
        "    # Reading product, sales, and return transactions from respective files\n",
        "    products = read_products(\"transactions_Products_January.csv\")\n",
        "    sales = read_sales(\"transactions_Sales_January.csv\")\n",
        "    returns = read_returns(\"transactions_Returns_January.csv\")\n",
        "\n",
        "    # Calculating units sold, revenue, and discounts for each product\n",
        "    product_units_sold, product_revenue, product_discounts = transactions_made(products, sales, returns)\n",
        "\n",
        "    # Displaying units sold for each product\n",
        "    for product_id in products.keys():\n",
        "        print(f\"{product_id:3} {products[product_id]['name']:<20} {product_units_sold[product_id]:>3}\")\n",
        "\n",
        "    # Writing units sold for each product to a file\n",
        "    with open(\"order_supplier_January.txt\", 'w') as file:\n",
        "        for product_id in products.keys():\n",
        "            file.write(f\"{product_id} # {products[product_id]['name']} # {product_units_sold[product_id]}\\n\")\n"
      ],
      "metadata": {
        "id": "8F5pv0_pHJ4o",
        "colab": {
          "base_uri": "https://localhost:8080/"
        },
        "outputId": "e1001990-008d-4ad5-d43b-119b563bddc1"
      },
      "execution_count": null,
      "outputs": [
        {
          "output_type": "stream",
          "name": "stdout",
          "text": [
            "P1  2-in-1 Laptop        192\n",
            "P2  Game Laptop          164\n",
            "P3  Titan Laptop         148\n",
            "P4  Folding Smartphone   182\n",
            "P5  Smart Smartphone     163\n",
            "P6  T headphones         143\n",
            "P7  Cordless Headphones  149\n",
            "P8  \"13\"\" Tablet\"        191\n",
            "P9  e-ink Tablet         161\n",
            "P10 \"10\"\" Tablet\"        135\n",
            "P11 Colour Printer       195\n",
            "P12 Laser Printer        189\n",
            "P13 Mega MP3             211\n",
            "P14 Flat screen          185\n",
            "P15 Gaming Monitor       193\n",
            "P16 Camera Webcam        124\n",
            "P17 Camera TocTic        109\n",
            "P18 Multidirectional mic 143\n",
            "P19 Drone Cam            125\n",
            "P20 Health Daylight      124\n"
          ]
        }
      ]
    },
    {
      "cell_type": "markdown",
      "source": [
        "QUESTION 5"
      ],
      "metadata": {
        "id": "yXr_ehzEI5hg"
      }
    },
    {
      "cell_type": "code",
      "source": [
        "if __name__ == \"__main__\":\n",
        "    # Reading product, sales, and return transactions from respective files\n",
        "    products = read_products(\"transactions_Products_January.csv\")\n",
        "    sales = read_sales(\"transactions_Sales_January.csv\")\n",
        "    returns = read_returns(\"transactions_Returns_January.csv\")\n",
        "\n",
        "    # Counting the number of sales for each product\n",
        "    sales_count = {ID_: 0 for ID_ in products.keys()}\n",
        "    for sale in sales:\n",
        "        if sale['transaction_id'] not in [return_entry['transaction_id'] for return_entry in returns]:\n",
        "            product_id = sale['product_id']\n",
        "            sales_count[product_id] += sale['quantity']\n",
        "\n",
        "    # Finding products that were never sold\n",
        "    never_sold = [product_id for product_id, count in sales_count.items() if count == 0]\n",
        "\n",
        "    # Printing products that were never sold\n",
        "    if never_sold:\n",
        "        for product_id in never_sold:\n",
        "            product_name = products[product_id]['name']\n",
        "            print(f\"{product_id:>3} {product_name:<20}\")\n",
        "    else:\n",
        "        # Finding the minimum sales count and products with that count\n",
        "        min_sales_count = min(sales_count.values())\n",
        "        least_sold_products = [product_id for product_id, count in sales_count.items() if count == min_sales_count]\n",
        "\n",
        "        # Finding dates of sales for the least sold products\n",
        "        sale_dates = []\n",
        "        for sale in sales:\n",
        "            if sale['product_id'] in least_sold_products:\n",
        "                date = sale['date'].strftime('%y/%m/%d')\n",
        "                sale_dates.append(date)\n",
        "        sale_dates_str = ', '.join(sale_dates)\n",
        "\n",
        "        # Printing products with the minimum sales count and their sales dates\n",
        "        for product_id in least_sold_products:\n",
        "            product_name = products[product_id]['name']\n",
        "            print(f\"{product_id:>3} {product_name:<20} {min_sales_count:03} [{sale_dates_str}]\")\n"
      ],
      "metadata": {
        "colab": {
          "base_uri": "https://localhost:8080/"
        },
        "id": "u6JJORqPAMUc",
        "outputId": "b81bf335-a316-4765-fcb4-e834d9544e8f"
      },
      "execution_count": null,
      "outputs": [
        {
          "output_type": "stream",
          "name": "stdout",
          "text": [
            "P17 Camera TocTic        109 [24/01/08, 24/01/08, 24/01/09, 24/01/09, 24/01/09, 24/01/09, 24/01/09, 24/01/10, 24/01/10, 24/01/10, 24/01/10, 24/01/11, 24/01/11, 24/01/11, 24/01/11, 24/01/11, 24/01/12, 24/01/12, 24/01/12, 24/01/13, 24/01/13, 24/01/13, 24/01/13, 24/01/14, 24/01/14, 24/01/14, 24/01/14, 24/01/14, 24/01/15, 24/01/15, 24/01/15, 24/01/16, 24/01/16, 24/01/16, 24/01/16, 24/01/16, 24/01/17, 24/01/18, 24/01/18, 24/01/19, 24/01/19, 24/01/20, 24/01/21, 24/01/21, 24/01/21, 24/01/22, 24/01/24, 24/01/25, 24/01/25, 24/01/26, 24/01/26, 24/01/26, 24/01/27, 24/01/27, 24/01/27, 24/01/27, 24/01/27, 24/01/27, 24/01/28, 24/01/28, 24/01/29, 24/01/29, 24/01/29, 24/01/30, 24/01/30, 24/01/30, 24/01/31, 24/01/31]\n"
          ]
        }
      ]
    },
    {
      "cell_type": "markdown",
      "source": [
        "QUESTION 6"
      ],
      "metadata": {
        "id": "Kq5SFDScHT2V"
      }
    },
    {
      "cell_type": "code",
      "source": [
        "if __name__ == \"__main__\":\n",
        "    # Reading product, sales, and return transactions from respective files\n",
        "    products = read_products(\"transactions_Products_January.csv\")\n",
        "    sales = read_sales(\"transactions_Sales_January.csv\")\n",
        "    returns = read_returns(\"transactions_Returns_January.csv\")\n",
        "\n",
        "    # Initializing dictionaries to store discounts and quantities for each product\n",
        "    discounts = {pid: 0 for pid in products.keys()}\n",
        "    quantity = {pid: 0 for pid in products.keys()}\n",
        "\n",
        "    # Calculating discounts and quantities for each product, excluding returned items\n",
        "    for sale in sales:\n",
        "        if sale['transaction_id'] not in [return_entry['transaction_id'] for return_entry in returns]:\n",
        "            pid = sale[\"product_id\"]\n",
        "            discounts[pid] += sale[\"discount\"] * sale[\"quantity\"]\n",
        "            quantity[pid] += sale[\"quantity\"]\n",
        "\n",
        "    # Calculating average discount obtained for each product\n",
        "    y = []\n",
        "    for product_id in products.keys():\n",
        "        units_sold = quantity[product_id]\n",
        "        avg_discount = discounts[product_id] / units_sold\n",
        "        y.append(avg_discount)\n",
        "\n",
        "    # Extracting product prices\n",
        "    x = []\n",
        "    for product_id in products.keys():\n",
        "        price_per_unit = products[product_id][\"price\"]\n",
        "        x.append(price_per_unit)\n",
        "\n",
        "    # Calculating Pearson correlation coefficient between product prices and average discounts\n",
        "    r = np.corrcoef(x, y)\n",
        "    print(f\"Pearson Correlation= {r[0,1]:.3f}\")\n",
        "\n",
        "    # Fitting a linear regression line and plotting the data\n",
        "    coef = np.polyfit(x, y, 1)\n",
        "    poly1d_fn = np.poly1d(coef)\n",
        "    plt.plot(x, y, 'bo', x, poly1d_fn(x), '--k')\n",
        "    plt.xlabel('Product Prices')\n",
        "    plt.ylabel('Average Discounts Obtained')\n",
        "    plt.show()\n"
      ],
      "metadata": {
        "id": "GlsLAvKwVRrf",
        "colab": {
          "base_uri": "https://localhost:8080/",
          "height": 466
        },
        "outputId": "75292676-1b01-4042-ad0a-1d65c5dbb2a0"
      },
      "execution_count": null,
      "outputs": [
        {
          "output_type": "stream",
          "name": "stdout",
          "text": [
            "Pearson Correlation= -0.134\n"
          ]
        },
        {
          "output_type": "display_data",
          "data": {
            "text/plain": [
              "<Figure size 640x480 with 1 Axes>"
            ],
            "image/png": "[encoded data removed]"
          },
          "metadata": {}
        }
      ]
    }
  ]
}